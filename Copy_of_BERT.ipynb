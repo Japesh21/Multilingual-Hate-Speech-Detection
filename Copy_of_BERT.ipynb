{
  "nbformat": 4,
  "nbformat_minor": 0,
  "metadata": {
    "colab": {
      "provenance": [],
      "include_colab_link": true
    },
    "kernelspec": {
      "name": "python3",
      "display_name": "Python 3"
    },
    "language_info": {
      "name": "python"
    }
  },
  "cells": [
    {
      "cell_type": "markdown",
      "metadata": {
        "id": "view-in-github",
        "colab_type": "text"
      },
      "source": [
        "<a href=\"https://colab.research.google.com/github/Japesh21/Multilingual-Hate-Speech-Detection/blob/main/Copy_of_BERT.ipynb\" target=\"_parent\"><img src=\"https://colab.research.google.com/assets/colab-badge.svg\" alt=\"Open In Colab\"/></a>"
      ]
    },
    {
      "cell_type": "code",
      "execution_count": null,
      "metadata": {
        "id": "7kXKnVN8vD4N"
      },
      "outputs": [],
      "source": [
        "pip install transformers"
      ]
    },
    {
      "cell_type": "code",
      "source": [
        "from transformers import BertTokenizer, BertForSequenceClassification\n",
        "import torch\n",
        "from torch.nn.functional import softmax\n",
        "\n",
        "# Load pre-trained BERT tokenizer and model from Hugging Face\n",
        "tokenizer = BertTokenizer.from_pretrained('nlptown/bert-base-multilingual-uncased-sentiment')\n",
        "model = BertForSequenceClassification.from_pretrained('nlptown/bert-base-multilingual-uncased-sentiment')\n",
        "\n",
        "def preprocess_text(text):\n",
        "    # Tokenize and encode input text with padding and truncation\n",
        "    inputs = tokenizer(text, return_tensors='pt', padding=True, truncation=True, max_length=512)\n",
        "    return inputs\n",
        "\n",
        "def predict_sentiment(text):\n",
        "    # Preprocess the text\n",
        "    inputs = preprocess_text(text)\n",
        "\n",
        "    # Perform inference using the model\n",
        "    with torch.no_grad():\n",
        "        outputs = model(**inputs)\n",
        "        logits = outputs.logits\n",
        "\n",
        "    # Convert logits to probabilities using softmax\n",
        "    probabilities = softmax(logits, dim=1)\n",
        "\n",
        "    # Determine the sentiment class based on the highest probability\n",
        "    sentiment_classes = ['very negative', 'negative', 'neutral', 'positive', 'very positive']\n",
        "    sentiment_score = torch.argmax(probabilities).item()\n",
        "    sentiment = sentiment_classes[sentiment_score]\n",
        "\n",
        "    # Output sentiment and confidence\n",
        "    confidence = probabilities[0][sentiment_score].item()\n",
        "    return sentiment, confidence\n",
        "\n",
        "# Test the function\n",
        "text = \"I'm thrilled with how easy it is to use this tool!\"\n",
        "sentiment, confidence = predict_sentiment(text)\n",
        "print(f\"Sentiment: {sentiment}, Confidence: {confidence:.2f}\")"
      ],
      "metadata": {
        "id": "PuAmmZibvKx8"
      },
      "execution_count": null,
      "outputs": []
    },
    {
      "cell_type": "code",
      "source": [
        "text = \"I hate this situation. I am very sad. :( )\"\n",
        "sentiment, confidence = predict_sentiment(text)\n",
        "print(f\"Sentiment: {sentiment}, Confidence: {confidence:.2f}\")"
      ],
      "metadata": {
        "id": "i_yTE4hKvQQs"
      },
      "execution_count": null,
      "outputs": []
    },
    {
      "cell_type": "markdown",
      "source": [
        "# Non-English language"
      ],
      "metadata": {
        "id": "waDj-y1xx6WI"
      }
    },
    {
      "cell_type": "code",
      "source": [
        "pip install translate # install this package"
      ],
      "metadata": {
        "id": "dAtuaIBXxTE_"
      },
      "execution_count": null,
      "outputs": []
    },
    {
      "cell_type": "code",
      "source": [
        "from translate import Translator\n",
        "\n",
        "translator_h2e = Translator(from_lang=\"hindi\",to_lang=\"english\")\n",
        "inp_text = \"आज मैं दुःखी हूं।।\"\n",
        "translation_h2e = translator_h2e.translate(inp_text)\n",
        "print(f'Hindi to English \\n Original text: {inp_text} \\n Translated text: {translation_h2e}\\n')\n",
        "\n",
        "translator_t2e = Translator(from_lang=\"tamil\",to_lang=\"english\")\n",
        "inp_text = \"இன்று நான் மிகவும் மகிழ்ச்சியாக இருக்கிறேன்.\"\n",
        "translation_t2e = translator_t2e.translate(inp_text)\n",
        "print(f'Tamil to English \\n Original text: {inp_text} \\n Translated text: {translation_t2e}\\n')"
      ],
      "metadata": {
        "id": "mVY7GVC_xQ7w"
      },
      "execution_count": null,
      "outputs": []
    },
    {
      "cell_type": "code",
      "source": [
        "sentiment, confidence = predict_sentiment(translation_h2e)\n",
        "print(f\"Sentiment: {sentiment}, Confidence: {confidence:.2f}\")"
      ],
      "metadata": {
        "id": "EYVurynYyRtl"
      },
      "execution_count": null,
      "outputs": []
    },
    {
      "cell_type": "code",
      "source": [
        "sentiment, confidence = predict_sentiment(translation_t2e)\n",
        "print(f\"Sentiment: {sentiment}, Confidence: {confidence:.2f}\")"
      ],
      "metadata": {
        "id": "zRECr2f7yDYe"
      },
      "execution_count": null,
      "outputs": []
    },
    {
      "cell_type": "code",
      "source": [],
      "metadata": {
        "id": "mF5fw6grYQYo"
      },
      "execution_count": null,
      "outputs": []
    },
    {
      "cell_type": "code",
      "source": [
        "translator_t2e = Translator(from_lang=\"tamil\",to_lang=\"english\")\n",
        "inp_text = \"இன்று நான் மிகவும் மகிழ்ச்சியாக இருக்கிறேன்.\"\n",
        "inp_text = \"நரகத்திற்கு போ\"\n",
        "translation_t2e = translator_t2e.translate(inp_text)\n",
        "print(f'Tamil to English \\n Original text: {inp_text} \\n Translated text: {translation_t2e}\\n')\n",
        "\n",
        "sentiment, confidence = predict_sentiment(translation_t2e)\n",
        "print(f\"Sentiment: {sentiment}\")"
      ],
      "metadata": {
        "id": "uHoQ9p1SoLkm"
      },
      "execution_count": null,
      "outputs": []
    },
    {
      "cell_type": "code",
      "source": [
        "translator_h2e = Translator(from_lang=\"hindi\",to_lang=\"english\")\n",
        "inp_text = \"मुझे आपसे नफ़रत है।।\"\n",
        "translation_h2e = translator_h2e.translate(inp_text)\n",
        "print(f'Hindi to English \\n Original text: {inp_text} \\n Translated text: {translation_h2e}\\n')\n",
        "\n",
        "sentiment, confidence = predict_sentiment(translation_h2e)\n",
        "print(f\"Sentiment: {sentiment}\")"
      ],
      "metadata": {
        "id": "WFELGGQpoMDa"
      },
      "execution_count": null,
      "outputs": []
    },
    {
      "cell_type": "code",
      "source": [
        "pip install deep_translator"
      ],
      "metadata": {
        "id": "8WHV7vwFrOz9"
      },
      "execution_count": null,
      "outputs": []
    },
    {
      "cell_type": "code",
      "source": [
        "from deep_translator import GoogleTranslator\n",
        "\n",
        "to_translate = 'I want to translate this text'\n",
        "translation_h2e = GoogleTranslator(source='hindi', target='english').translate(inp_text)\n",
        "print(f'Hindi to English \\n Original text: {inp_text} \\n Translated text: {translation_h2e}\\n')\n",
        "\n",
        "sentiment, confidence = predict_sentiment(translation_h2e)\n",
        "print(f\"Sentiment: {sentiment}\")"
      ],
      "metadata": {
        "id": "ddcqd5tkrMWH"
      },
      "execution_count": null,
      "outputs": []
    },
    {
      "cell_type": "code",
      "source": [
        "inp_text = \"நரகத்திற்கு போ.\"\n",
        "translation_t2e = GoogleTranslator(source='tamil', target='english').translate(inp_text)\n",
        "print(f'Tamil to English \\n Original text: {inp_text} \\n Translated text: {translation_t2e}\\n')\n",
        "\n",
        "sentiment, confidence = predict_sentiment(translation_t2e)\n",
        "print(f\"Sentiment: {sentiment}\")"
      ],
      "metadata": {
        "id": "VyRjw7gRrNWb"
      },
      "execution_count": null,
      "outputs": []
    },
    {
      "cell_type": "code",
      "source": [
        "print(f\"Confidence of AI: {100*confidence:.4f}%\")"
      ],
      "metadata": {
        "id": "prxHuJ6AErI7"
      },
      "execution_count": null,
      "outputs": []
    },
    {
      "cell_type": "code",
      "source": [],
      "metadata": {
        "id": "86RnYd_MdACY"
      },
      "execution_count": null,
      "outputs": []
    },
    {
      "cell_type": "code",
      "source": [
        "inp_text = \"நரகத்திற்கு போ\"\n",
        "translation_t2e = GoogleTranslator(source='tamil', target='english').translate(inp_text)\n",
        "print(f'Tamil to English \\n Original text: {inp_text} \\n Translated text: {translation_t2e}\\n')\n",
        "\n",
        "sentiment, confidence = predict_sentiment(translation_t2e)\n",
        "print(f\"Sentiment: {sentiment}\")"
      ],
      "metadata": {
        "id": "j_ixiZw4dBUY"
      },
      "execution_count": null,
      "outputs": []
    },
    {
      "cell_type": "code",
      "source": [
        "inp_text = \"எனக்கு உங்கள் சட்டை பிடிக்கும்\"\n",
        "translation_t2e = GoogleTranslator(source='tamil', target='english').translate(inp_text)\n",
        "print(f'Tamil to English \\n Original text: {inp_text} \\n Translated text: {translation_t2e}\\n')\n",
        "\n",
        "sentiment, confidence = predict_sentiment(translation_t2e)\n",
        "print(f\"Sentiment: {sentiment}\")"
      ],
      "metadata": {
        "id": "O765zlB9dYl6"
      },
      "execution_count": null,
      "outputs": []
    },
    {
      "cell_type": "code",
      "source": [
        "inp_text = \"நரகத்திற்கு போ.\"\n",
        "translation_t2e = GoogleTranslator(source='tamil', target='english').translate(inp_text)\n",
        "print(f'Tamil to English \\n Original text: {inp_text} \\n Translated text: {translation_t2e}\\n')\n",
        "\n",
        "sentiment, confidence = predict_sentiment(translation_t2e)\n",
        "print(f\"Sentiment: {sentiment}\")"
      ],
      "metadata": {
        "id": "fLbYEI2KdWFN"
      },
      "execution_count": null,
      "outputs": []
    }
  ]
}